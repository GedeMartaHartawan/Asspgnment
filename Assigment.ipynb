{
  "nbformat": 4,
  "nbformat_minor": 0,
  "metadata": {
    "colab": {
      "name": "Assigment.ipynb",
      "provenance": [],
      "collapsed_sections": []
    },
    "kernelspec": {
      "name": "python3",
      "display_name": "Python 3"
    }
  },
  "cells": [
    {
      "cell_type": "code",
      "metadata": {
        "id": "i-nqDOjuTAtd",
        "colab_type": "code",
        "colab": {}
      },
      "source": [
        "import numpy as np\n",
        "import pandas as pd\n",
        "import matplotlib.pyplot as plt\n",
        "from sklearn.preprocessing import LabelEncoder"
      ],
      "execution_count": 40,
      "outputs": []
    },
    {
      "cell_type": "code",
      "metadata": {
        "id": "vobHJQvnTJYd",
        "colab_type": "code",
        "colab": {
          "base_uri": "https://localhost:8080/",
          "height": 206
        },
        "outputId": "3a180501-6134-4152-eef3-1b4db428180a"
      },
      "source": [
        "iris = pd.read_csv('https://raw.githubusercontent.com/mwaskom/seaborn-data/master/iris.csv')\n",
        "iris.head(5)"
      ],
      "execution_count": 41,
      "outputs": [
        {
          "output_type": "execute_result",
          "data": {
            "text/html": [
              "<div>\n",
              "<style scoped>\n",
              "    .dataframe tbody tr th:only-of-type {\n",
              "        vertical-align: middle;\n",
              "    }\n",
              "\n",
              "    .dataframe tbody tr th {\n",
              "        vertical-align: top;\n",
              "    }\n",
              "\n",
              "    .dataframe thead th {\n",
              "        text-align: right;\n",
              "    }\n",
              "</style>\n",
              "<table border=\"1\" class=\"dataframe\">\n",
              "  <thead>\n",
              "    <tr style=\"text-align: right;\">\n",
              "      <th></th>\n",
              "      <th>sepal_length</th>\n",
              "      <th>sepal_width</th>\n",
              "      <th>petal_length</th>\n",
              "      <th>petal_width</th>\n",
              "      <th>species</th>\n",
              "    </tr>\n",
              "  </thead>\n",
              "  <tbody>\n",
              "    <tr>\n",
              "      <th>0</th>\n",
              "      <td>5.1</td>\n",
              "      <td>3.5</td>\n",
              "      <td>1.4</td>\n",
              "      <td>0.2</td>\n",
              "      <td>setosa</td>\n",
              "    </tr>\n",
              "    <tr>\n",
              "      <th>1</th>\n",
              "      <td>4.9</td>\n",
              "      <td>3.0</td>\n",
              "      <td>1.4</td>\n",
              "      <td>0.2</td>\n",
              "      <td>setosa</td>\n",
              "    </tr>\n",
              "    <tr>\n",
              "      <th>2</th>\n",
              "      <td>4.7</td>\n",
              "      <td>3.2</td>\n",
              "      <td>1.3</td>\n",
              "      <td>0.2</td>\n",
              "      <td>setosa</td>\n",
              "    </tr>\n",
              "    <tr>\n",
              "      <th>3</th>\n",
              "      <td>4.6</td>\n",
              "      <td>3.1</td>\n",
              "      <td>1.5</td>\n",
              "      <td>0.2</td>\n",
              "      <td>setosa</td>\n",
              "    </tr>\n",
              "    <tr>\n",
              "      <th>4</th>\n",
              "      <td>5.0</td>\n",
              "      <td>3.6</td>\n",
              "      <td>1.4</td>\n",
              "      <td>0.2</td>\n",
              "      <td>setosa</td>\n",
              "    </tr>\n",
              "  </tbody>\n",
              "</table>\n",
              "</div>"
            ],
            "text/plain": [
              "   sepal_length  sepal_width  petal_length  petal_width species\n",
              "0           5.1          3.5           1.4          0.2  setosa\n",
              "1           4.9          3.0           1.4          0.2  setosa\n",
              "2           4.7          3.2           1.3          0.2  setosa\n",
              "3           4.6          3.1           1.5          0.2  setosa\n",
              "4           5.0          3.6           1.4          0.2  setosa"
            ]
          },
          "metadata": {
            "tags": []
          },
          "execution_count": 41
        }
      ]
    },
    {
      "cell_type": "code",
      "metadata": {
        "id": "NqG8sS87T17K",
        "colab_type": "code",
        "colab": {}
      },
      "source": [
        "X = iris.iloc[:, 2:-1].values #independent variable only use petal_length and petal_width\n",
        "y = iris.iloc[:, -1].values #label"
      ],
      "execution_count": 42,
      "outputs": []
    },
    {
      "cell_type": "code",
      "metadata": {
        "id": "SZ_TbD2dTN4L",
        "colab_type": "code",
        "colab": {}
      },
      "source": [
        "le = LabelEncoder()\n",
        "y = le.fit_transform(y)  "
      ],
      "execution_count": 43,
      "outputs": []
    },
    {
      "cell_type": "code",
      "metadata": {
        "id": "q2eYaJtTTLHo",
        "colab_type": "code",
        "colab": {
          "base_uri": "https://localhost:8080/",
          "height": 632
        },
        "outputId": "90c0300f-abe0-4c60-d55e-9133096eb9ae"
      },
      "source": [
        "groups = iris.groupby(\"species\")\n",
        "for name, group in groups:\n",
        "    plt.plot(group[\"petal_length\"], group[\"petal_width\"], marker=\"o\", linestyle=\"\", label=name)\n",
        "plt.legend(loc = \"lower right\")\n",
        "plt.grid()\n",
        "plt.rcParams[\"figure.figsize\"] = (10,10)\n",
        "plt.title(\"Petal Comparison\", fontsize=20)\n",
        "plt.xlabel('Petal Length', fontsize=15)\n",
        "plt.ylabel('Petal Width', fontsize=15)\n",
        "\n",
        "plt.show()"
      ],
      "execution_count": 44,
      "outputs": [
        {
          "output_type": "display_data",
          "data": {
            "image/png": "[encoded data removed]",
            "text/plain": [
              "<Figure size 720x720 with 1 Axes>"
            ]
          },
          "metadata": {
            "tags": [],
            "needs_background": "light"
          }
        }
      ]
    },
    {
      "cell_type": "code",
      "metadata": {
        "id": "mo_mBfVKe2U9",
        "colab_type": "code",
        "colab": {}
      },
      "source": [
        "w0 = [] \n",
        "for i in range (1,151): \n",
        "  w0.append(np.array([1]))  \n",
        "X = np.append(X, w0,  axis = 1) "
      ],
      "execution_count": 45,
      "outputs": []
    },
    {
      "cell_type": "code",
      "metadata": {
        "id": "swHsum8EfLUY",
        "colab_type": "code",
        "colab": {
          "base_uri": "https://localhost:8080/",
          "height": 128
        },
        "outputId": "5c64dbbd-cdc5-4688-dd8b-04bd4498fa42"
      },
      "source": [
        "first_y = np.where(y == 0 , 0 , 1) \n",
        "print(len(first_y))\n",
        "print(first_y)"
      ],
      "execution_count": 46,
      "outputs": [
        {
          "output_type": "stream",
          "text": [
            "150\n",
            "[0 0 0 0 0 0 0 0 0 0 0 0 0 0 0 0 0 0 0 0 0 0 0 0 0 0 0 0 0 0 0 0 0 0 0 0 0\n",
            " 0 0 0 0 0 0 0 0 0 0 0 0 0 1 1 1 1 1 1 1 1 1 1 1 1 1 1 1 1 1 1 1 1 1 1 1 1\n",
            " 1 1 1 1 1 1 1 1 1 1 1 1 1 1 1 1 1 1 1 1 1 1 1 1 1 1 1 1 1 1 1 1 1 1 1 1 1\n",
            " 1 1 1 1 1 1 1 1 1 1 1 1 1 1 1 1 1 1 1 1 1 1 1 1 1 1 1 1 1 1 1 1 1 1 1 1 1\n",
            " 1 1]\n"
          ],
          "name": "stdout"
        }
      ]
    },
    {
      "cell_type": "code",
      "metadata": {
        "id": "KtahMmGDfX6r",
        "colab_type": "code",
        "colab": {}
      },
      "source": [
        "new_X = X\n",
        "new_y = np.reshape (first_y,(-1,1))\n",
        "new_X = np.append(new_X, new_y, axis = 1) \n",
        "np.random.shuffle(new_X) \n",
        "first_y = new_X[:,-1] \n",
        "first_x = new_X[:,:-1]"
      ],
      "execution_count": 47,
      "outputs": []
    },
    {
      "cell_type": "code",
      "metadata": {
        "id": "MMt6o7xiUGE9",
        "colab_type": "code",
        "colab": {}
      },
      "source": [
        "y = np.reshape(y, (-1,1)) #the process is the same like before but needs to re labeling\n",
        "new_dataset= np.append(X, y , axis = 1)\n",
        "new_dataset = new_dataset[50:,:] #but in this process exclude class 0 which the decision boundary is already created\n",
        "new_dataset[:,-1] = np.where(new_dataset[:,-1]== 1, 0, 1)\n",
        "np.random.shuffle(new_dataset)\n",
        "second_X = new_dataset[:,:-1]\n",
        "second_y = new_dataset[:,-1]"
      ],
      "execution_count": 16,
      "outputs": []
    },
    {
      "cell_type": "code",
      "metadata": {
        "id": "SG7MIH6mfrtq",
        "colab_type": "code",
        "colab": {
          "base_uri": "https://localhost:8080/",
          "height": 35
        },
        "outputId": "17fd82d8-9ffd-469f-a503-15590a83ead7"
      },
      "source": [
        "np.random.seed(42)\n",
        "no_of_inputs = 2\n",
        "weights = np.random.randn(no_of_inputs +1 )\n",
        "print(\"Initial weight %s\" % weights)"
      ],
      "execution_count": 18,
      "outputs": [
        {
          "output_type": "stream",
          "text": [
            "Initial weight [ 0.49671415 -0.1382643   0.64768854]\n"
          ],
          "name": "stdout"
        }
      ]
    },
    {
      "cell_type": "code",
      "metadata": {
        "id": "TTDpGSx8GZiD",
        "colab_type": "code",
        "colab": {
          "base_uri": "https://localhost:8080/",
          "height": 35
        },
        "outputId": "2c658b5f-a4d4-4e08-854d-b37003515f11"
      },
      "source": [
        "Iters = 1000 # the maximum number of training epochs\n",
        "no_of_inputs = 2 # x0 is appended for bias w0.\n",
        "np.random.seed(654)\n",
        "weights = np.random.randn(no_of_inputs + 1) # to initialize the initial weight coefficients at random\n",
        "print(\"initial: \" + str(weights)) # to print the initial weight coefficients: [w1, w2, w0]\n",
        "learning_rate = 0.1 # to specify the learning rate"
      ],
      "execution_count": 19,
      "outputs": [
        {
          "output_type": "stream",
          "text": [
            "initial: [ 1.66201555 -1.08031903  1.21524534]\n"
          ],
          "name": "stdout"
        }
      ]
    },
    {
      "cell_type": "code",
      "metadata": {
        "id": "yb5SuNqHf_UH",
        "colab_type": "code",
        "colab": {
          "base_uri": "https://localhost:8080/",
          "height": 54
        },
        "outputId": "71f9c898-7eb1-460c-a427-a96e8b6d2825"
      },
      "source": [
        "correct = 0\n",
        "Iters = 1000\n",
        "for _ in range(Iters):\n",
        "  for _input, label in zip(first_x, first_y):\n",
        "    summation = np.dot(_input, weights) # to compute the weighted sum\n",
        "    \n",
        "    if summation >= 0: # to make a decision based on the step activation function\n",
        "      predicted = 1\n",
        "    else:\n",
        "      predicted = 0\n",
        "    \n",
        "    if predicted == label:\n",
        "      correct += 1\n",
        "\n",
        "    weights += learning_rate * (label - predicted) * _input # to adjust weights!?\n",
        "print(\"trained: \", str(weights)) # to print the trained weight coefficients\n",
        "accuracy = (correct/Iters)/len(first_x)\n",
        "print(\"Accuracy \", str(accuracy) )"
      ],
      "execution_count": 48,
      "outputs": [
        {
          "output_type": "stream",
          "text": [
            "trained:  [ 0.60201555 -0.60031903 -1.08475466]\n",
            "Accuracy  1.0\n"
          ],
          "name": "stdout"
        }
      ]
    },
    {
      "cell_type": "code",
      "metadata": {
        "id": "DaNSrBVRgVD-",
        "colab_type": "code",
        "colab": {
          "base_uri": "https://localhost:8080/",
          "height": 54
        },
        "outputId": "ce9e10e2-c2c9-4683-8775-a9e3edba772c"
      },
      "source": [
        "p1 = abs((weights[2]/weights[1]))\n",
        "p2 = abs((weights[2]/weights[0]))\n",
        "print(\"point 1 :\", str(p1))\n",
        "print(\"point 2: \", str(p2))"
      ],
      "execution_count": 49,
      "outputs": [
        {
          "output_type": "stream",
          "text": [
            "point 1 : 1.806963643595928\n",
            "point 2:  1.8018715040099138\n"
          ],
          "name": "stdout"
        }
      ]
    },
    {
      "cell_type": "code",
      "metadata": {
        "id": "LjHckT9_gorL",
        "colab_type": "code",
        "colab": {
          "base_uri": "https://localhost:8080/",
          "height": 632
        },
        "outputId": "ea2c838b-f483-4cce-d813-05edcdab73dc"
      },
      "source": [
        "groups = iris.groupby(\"species\")\n",
        "for name, group in groups:\n",
        "    plt.plot(group[\"petal_length\"], group[\"petal_width\"], marker=\"o\", linestyle=\"\", label=name)\n",
        "plt.legend(loc = \"lower right\")\n",
        "plt.grid()\n",
        "plt.rcParams[\"figure.figsize\"] = (10,10)\n",
        "plt.title(\"Petal Comparison\", fontsize=20)\n",
        "plt.xlabel('Petal Length', fontsize=15)\n",
        "plt.ylabel('Petal Width', fontsize=15)\n",
        "plt.plot([0,p1],[p2,0],)\n",
        "plt.show()"
      ],
      "execution_count": 50,
      "outputs": [
        {
          "output_type": "display_data",
          "data": {
            "image/png": "[encoded data removed]",
            "text/plain": [
              "<Figure size 720x720 with 1 Axes>"
            ]
          },
          "metadata": {
            "tags": [],
            "needs_background": "light"
          }
        }
      ]
    },
    {
      "cell_type": "code",
      "metadata": {
        "id": "R1dKbt95g30x",
        "colab_type": "code",
        "colab": {}
      },
      "source": [
        "y = np.reshape(y, (-1,1)) #the process is the same like before but needs to re labeling\n",
        "new_dataset= np.append(X, y , axis = 1)\n",
        "new_dataset = new_dataset[50:,:] #but in this process exclude class 0 which the decision boundary is already created\n",
        "new_dataset[:,-1] = np.where(new_dataset[:,-1]== 1, 0, 1)\n",
        "np.random.shuffle(new_dataset)\n",
        "second_X = new_dataset[:,:-1]\n",
        "second_y = new_dataset[:,-1]\n"
      ],
      "execution_count": 31,
      "outputs": []
    },
    {
      "cell_type": "code",
      "metadata": {
        "id": "nFPJSAuAUQ1U",
        "colab_type": "code",
        "colab": {
          "base_uri": "https://localhost:8080/",
          "height": 35
        },
        "outputId": "6f52416c-b616-4670-ad6d-97773eac0ecd"
      },
      "source": [
        "np.random.seed(43)\n",
        "no_of_inputs = 2\n",
        "weights_2 = np.random.randn(no_of_inputs +1 )\n",
        "print(\"Initial weight %s\" % weights_2)"
      ],
      "execution_count": 32,
      "outputs": [
        {
          "output_type": "stream",
          "text": [
            "Initial weight [ 0.25739993 -0.90848143 -0.37850311]\n"
          ],
          "name": "stdout"
        }
      ]
    },
    {
      "cell_type": "code",
      "metadata": {
        "id": "3SJVR4adfdzo",
        "colab_type": "code",
        "colab": {
          "base_uri": "https://localhost:8080/",
          "height": 72
        },
        "outputId": "89d19e88-1355-4d80-e28f-40c11bd0c544"
      },
      "source": [
        "Iters = 5000 # the maximum number of training epochs\n",
        "no_of_inputs = 2 # x0 is appended for bias w0.\n",
        "np.random.seed(1465)\n",
        "weights2 = np.random.randn(no_of_inputs + 1) # to initialize the initial weight coefficients at random\n",
        "print(\"initial: \" + str(weights2)) # to print the initial weight coefficients: [w1, w2, w0]\n",
        "learning_rate = 0.1 # to specify the learning rate\n",
        "correct2 = 0\n",
        "for _ in range(Iters):\n",
        "  for _input, label in zip(second_X, second_y):\n",
        "    summation = np.dot(_input, weights2) # to compute the weighted sum\n",
        "    \n",
        "    if summation >= 0: # to make a decision based on the step activation function\n",
        "      predicted = 1\n",
        "    else:\n",
        "      predicted = 0\n",
        "    \n",
        "    if predicted == label:\n",
        "      correct2 += 1\n",
        "\n",
        "    weights2 += learning_rate * (label - predicted) * _input # to adjust weights!?\n",
        "print(\"trained: \", str(weights2)) # to print the trained weight coefficients\n",
        "accuracy2 = (correct2/Iters)/len(second_X)\n",
        "print(\"Accuracy \", str(accuracy2) )\n",
        "\n",
        "#92.4% is the best acuracy that i could get"
      ],
      "execution_count": 34,
      "outputs": [
        {
          "output_type": "stream",
          "text": [
            "initial: [-0.10701912 -0.01650817  0.58331321]\n",
            "trained:  [  4.40298088   5.94349183 -31.91668679]\n",
            "Accuracy  0.924298\n"
          ],
          "name": "stdout"
        }
      ]
    },
    {
      "cell_type": "code",
      "metadata": {
        "id": "eqpZmobwh9jW",
        "colab_type": "code",
        "colab": {
          "base_uri": "https://localhost:8080/",
          "height": 54
        },
        "outputId": "240fb40c-d4d1-4c26-de5c-a55510801454"
      },
      "source": [
        "pp1 = abs((weights2[2]/weights2[1]))\n",
        "pp2 = abs((weights2[2]/weights2[0]))\n",
        "print(\"point 1 :\", str(pp1))\n",
        "print(\"point 2: \", str(pp2))"
      ],
      "execution_count": 35,
      "outputs": [
        {
          "output_type": "stream",
          "text": [
            "point 1 : 5.370022829784549\n",
            "point 2:  7.248881531266166\n"
          ],
          "name": "stdout"
        }
      ]
    },
    {
      "cell_type": "code",
      "metadata": {
        "id": "BV1MgcA2h-9g",
        "colab_type": "code",
        "colab": {
          "base_uri": "https://localhost:8080/",
          "height": 632
        },
        "outputId": "4641d530-4746-4771-a853-bf80b87dd4e4"
      },
      "source": [
        "groups = iris.groupby(\"species\")\n",
        "for name, group in groups:\n",
        "    plt.plot(group[\"petal_length\"], group[\"petal_width\"], marker=\"o\", linestyle=\"\", label=name)\n",
        "plt.grid()\n",
        "plt.rcParams[\"figure.figsize\"] = (10,10)\n",
        "plt.title(\"Petal Comparison\", fontsize=20)\n",
        "plt.xlabel('Petal Length', fontsize=15)\n",
        "plt.ylabel('Petal Width', fontsize=15)\n",
        "plt.plot([0,pp1],[pp2,0], c = \"cyan\", label = \" perceptron 2\")\n",
        "plt.plot([0,p1],[p2,0], c = \"red\",  label = \" perceptron 1\")\n",
        "plt.legend(loc = \"lower right\")\n",
        "plt.show()"
      ],
      "execution_count": 36,
      "outputs": [
        {
          "output_type": "display_data",
          "data": {
            "image/png": "[encoded data removed]",
            "text/plain": [
              "<Figure size 720x720 with 1 Axes>"
            ]
          },
          "metadata": {
            "tags": [],
            "needs_background": "light"
          }
        }
      ]
    }
  ]
}